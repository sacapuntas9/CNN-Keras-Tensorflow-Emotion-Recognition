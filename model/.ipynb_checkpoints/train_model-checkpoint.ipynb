{
 "cells": [
  {
   "cell_type": "markdown",
   "metadata": {},
   "source": [
    "# Uses CNN to train network to identify emotions from ckplus dataset\n",
    "### Dataset: https://www.kaggle.com/shawon10/ckplus"
   ]
  },
  {
   "cell_type": "code",
   "execution_count": 77,
   "metadata": {
    "collapsed": true
   },
   "outputs": [],
   "source": [
    "import glob\n",
    "import cv2\n",
    "import numpy as np\n",
    "import tensorflow as tf\n",
    "import os\n",
    "\n",
    "PATH_TO_IMAGES_ROOT='../images'"
   ]
  },
  {
   "cell_type": "markdown",
   "metadata": {},
   "source": [
    "### Automatically encodes category labels based on training set directory structure"
   ]
  },
  {
   "cell_type": "code",
   "execution_count": 78,
   "metadata": {},
   "outputs": [
    {
     "name": "stdout",
     "output_type": "stream",
     "text": [
      "['anger', 'contempt', 'disgust', 'fear', 'happy', 'sadness', 'surprise']\n"
     ]
    }
   ],
   "source": [
    "categories = [dI for dI in os.listdir(f\"{PATH_TO_IMAGES_ROOT}/training\") \n",
    "              if os.path.isdir(os.path.join(f\"{PATH_TO_IMAGES_ROOT}/training\",dI))]"
   ]
  },
  {
   "cell_type": "code",
   "execution_count": 79,
   "metadata": {},
   "outputs": [
    {
     "name": "stdout",
     "output_type": "stream",
     "text": [
      "{'anger': 0, 'contempt': 1, 'disgust': 2, 'fear': 3, 'happy': 4, 'sadness': 5, 'surprise': 6}\n"
     ]
    }
   ],
   "source": [
    "category_map = {}\n",
    "\n",
    "index = 0\n",
    "for element in categories:\n",
    "    category_map[element] = index\n",
    "    index += 1"
   ]
  },
  {
   "cell_type": "code",
   "execution_count": 80,
   "metadata": {},
   "outputs": [],
   "source": [
    "def load_data_into_memory(images_path):\n",
    "    images = []\n",
    "    labels = []\n",
    "    for i in glob.glob(images_path+'/**/*.png', recursive=True):\n",
    "        images.append(cv2.imread(i, 0)) # read in greyscale mode\n",
    "        dir_name = os.path.basename(os.path.dirname(os.path.realpath(i)))\n",
    "        labels.append(category_map[dir_name])\n",
    "    images = np.stack(images)\n",
    "    return (images, labels)\n"
   ]
  },
  {
   "cell_type": "code",
   "execution_count": 81,
   "metadata": {},
   "outputs": [
    {
     "name": "stdout",
     "output_type": "stream",
     "text": [
      "(792, 48, 48, 1)\n",
      "(189, 48, 48, 1)\n"
     ]
    }
   ],
   "source": [
    "\n",
    "train_images, train_labels = load_data_into_memory(f\"{PATH_TO_IMAGES_ROOT}/training\")\n",
    "test_images, test_labels = load_data_into_memory(f\"{PATH_TO_IMAGES_ROOT}/test\")\n",
    "\n",
    "# Normalize the images.\n",
    "train_images = (train_images / 255) - 0.5\n",
    "test_images = (test_images / 255) - 0.5\n",
    "\n",
    "# Reshape the images.\n",
    "train_images = np.expand_dims(train_images, axis=3)\n",
    "test_images = np.expand_dims(test_images, axis=3)\n",
    "\n",
    "print(train_images.shape) # (60000, 28, 28, 1)\n",
    "print(test_images.shape)  # (10000, 28, 28, 1)\n"
   ]
  },
  {
   "cell_type": "code",
   "execution_count": 54,
   "metadata": {},
   "outputs": [],
   "source": [
    "from keras.models import Sequential\n",
    "from keras.layers import Conv2D, MaxPooling2D, Dense, Flatten\n",
    "from keras.utils import to_categorical"
   ]
  },
  {
   "cell_type": "code",
   "execution_count": 55,
   "metadata": {},
   "outputs": [],
   "source": [
    "num_filters = 8\n",
    "filter_size = 3\n",
    "pool_size = 2\n",
    "\n",
    "model = Sequential([\n",
    "  Conv2D(num_filters, filter_size, input_shape=(48, 48, 1)),\n",
    "  MaxPooling2D(pool_size=pool_size),\n",
    "  Flatten(),\n",
    "  Dense(7, activation='softmax'),\n",
    "])"
   ]
  },
  {
   "cell_type": "code",
   "execution_count": 56,
   "metadata": {
    "collapsed": true
   },
   "outputs": [],
   "source": [
    "model.compile(\n",
    "  'adam',\n",
    "  loss='categorical_crossentropy',\n",
    "  metrics=['accuracy'],\n",
    ")"
   ]
  },
  {
   "cell_type": "code",
   "execution_count": 58,
   "metadata": {},
   "outputs": [
    {
     "name": "stdout",
     "output_type": "stream",
     "text": [
      "Train on 792 samples, validate on 189 samples\n",
      "Epoch 1/100\n",
      "792/792 [==============================] - 0s 215us/step - loss: 0.5198 - acc: 0.8624 - val_loss: 0.4282 - val_acc: 0.8995\n",
      "Epoch 2/100\n",
      "792/792 [==============================] - 0s 212us/step - loss: 0.3734 - acc: 0.9192 - val_loss: 0.3425 - val_acc: 0.9153\n",
      "Epoch 3/100\n",
      "792/792 [==============================] - 0s 208us/step - loss: 0.2934 - acc: 0.9331 - val_loss: 0.2775 - val_acc: 0.9259\n",
      "Epoch 4/100\n",
      "792/792 [==============================] - 0s 170us/step - loss: 0.2417 - acc: 0.9520 - val_loss: 0.2295 - val_acc: 0.9418\n",
      "Epoch 5/100\n",
      "792/792 [==============================] - 0s 176us/step - loss: 0.1979 - acc: 0.9697 - val_loss: 0.1857 - val_acc: 0.9577\n",
      "Epoch 6/100\n",
      "792/792 [==============================] - 0s 169us/step - loss: 0.1654 - acc: 0.9760 - val_loss: 0.1552 - val_acc: 0.9683\n",
      "Epoch 7/100\n",
      "792/792 [==============================] - 0s 186us/step - loss: 0.1276 - acc: 0.9886 - val_loss: 0.1278 - val_acc: 0.9788\n",
      "Epoch 8/100\n",
      "792/792 [==============================] - 0s 182us/step - loss: 0.1065 - acc: 0.9874 - val_loss: 0.1130 - val_acc: 0.9841\n",
      "Epoch 9/100\n",
      "792/792 [==============================] - 0s 179us/step - loss: 0.0965 - acc: 0.9912 - val_loss: 0.0919 - val_acc: 0.9894\n",
      "Epoch 10/100\n",
      "792/792 [==============================] - 0s 184us/step - loss: 0.0785 - acc: 0.9874 - val_loss: 0.0966 - val_acc: 0.9735\n",
      "Epoch 11/100\n",
      "792/792 [==============================] - 0s 177us/step - loss: 0.0745 - acc: 0.9899 - val_loss: 0.0850 - val_acc: 0.9841\n",
      "Epoch 12/100\n",
      "792/792 [==============================] - 0s 194us/step - loss: 0.0653 - acc: 0.9924 - val_loss: 0.0680 - val_acc: 0.9894\n",
      "Epoch 13/100\n",
      "792/792 [==============================] - 0s 196us/step - loss: 0.0570 - acc: 0.9924 - val_loss: 0.0541 - val_acc: 0.9894\n",
      "Epoch 14/100\n",
      "792/792 [==============================] - 0s 210us/step - loss: 0.0451 - acc: 0.9975 - val_loss: 0.0585 - val_acc: 0.9894\n",
      "Epoch 15/100\n",
      "792/792 [==============================] - 0s 186us/step - loss: 0.0389 - acc: 1.0000 - val_loss: 0.0475 - val_acc: 0.9947\n",
      "Epoch 16/100\n",
      "792/792 [==============================] - 0s 174us/step - loss: 0.0352 - acc: 0.9975 - val_loss: 0.0552 - val_acc: 0.9841\n",
      "Epoch 17/100\n",
      "792/792 [==============================] - 0s 177us/step - loss: 0.0466 - acc: 0.9924 - val_loss: 0.0383 - val_acc: 1.0000\n",
      "Epoch 18/100\n",
      "792/792 [==============================] - 0s 186us/step - loss: 0.0313 - acc: 1.0000 - val_loss: 0.0378 - val_acc: 1.0000\n",
      "Epoch 19/100\n",
      "792/792 [==============================] - 0s 188us/step - loss: 0.0259 - acc: 0.9987 - val_loss: 0.0423 - val_acc: 0.9947\n",
      "Epoch 20/100\n",
      "792/792 [==============================] - 0s 216us/step - loss: 0.0224 - acc: 1.0000 - val_loss: 0.0304 - val_acc: 1.0000\n",
      "Epoch 21/100\n",
      "792/792 [==============================] - 0s 187us/step - loss: 0.0239 - acc: 0.9987 - val_loss: 0.0295 - val_acc: 0.9947\n",
      "Epoch 22/100\n",
      "792/792 [==============================] - 0s 179us/step - loss: 0.0165 - acc: 1.0000 - val_loss: 0.0271 - val_acc: 0.9947\n",
      "Epoch 23/100\n",
      "792/792 [==============================] - 0s 177us/step - loss: 0.0155 - acc: 1.0000 - val_loss: 0.0241 - val_acc: 1.0000\n",
      "Epoch 24/100\n",
      "792/792 [==============================] - 0s 169us/step - loss: 0.0151 - acc: 1.0000 - val_loss: 0.0260 - val_acc: 0.9947\n",
      "Epoch 25/100\n",
      "792/792 [==============================] - 0s 184us/step - loss: 0.0132 - acc: 1.0000 - val_loss: 0.0227 - val_acc: 1.0000\n",
      "Epoch 26/100\n",
      "792/792 [==============================] - 0s 198us/step - loss: 0.0136 - acc: 1.0000 - val_loss: 0.0233 - val_acc: 1.0000\n",
      "Epoch 27/100\n",
      "792/792 [==============================] - 0s 191us/step - loss: 0.0128 - acc: 1.0000 - val_loss: 0.0250 - val_acc: 0.9947\n",
      "Epoch 28/100\n",
      "792/792 [==============================] - 0s 168us/step - loss: 0.0109 - acc: 1.0000 - val_loss: 0.0187 - val_acc: 1.0000\n",
      "Epoch 29/100\n",
      "792/792 [==============================] - 0s 179us/step - loss: 0.0108 - acc: 1.0000 - val_loss: 0.0215 - val_acc: 1.0000\n",
      "Epoch 30/100\n",
      "792/792 [==============================] - 0s 189us/step - loss: 0.0106 - acc: 1.0000 - val_loss: 0.0220 - val_acc: 1.0000\n",
      "Epoch 31/100\n",
      "792/792 [==============================] - 0s 193us/step - loss: 0.0142 - acc: 0.9975 - val_loss: 0.0242 - val_acc: 1.0000\n",
      "Epoch 32/100\n",
      "792/792 [==============================] - 0s 177us/step - loss: 0.0125 - acc: 1.0000 - val_loss: 0.0187 - val_acc: 1.0000\n",
      "Epoch 33/100\n",
      "792/792 [==============================] - 0s 176us/step - loss: 0.0092 - acc: 1.0000 - val_loss: 0.0168 - val_acc: 0.9947\n",
      "Epoch 34/100\n",
      "792/792 [==============================] - 0s 181us/step - loss: 0.0076 - acc: 1.0000 - val_loss: 0.0149 - val_acc: 1.0000\n",
      "Epoch 35/100\n",
      "792/792 [==============================] - 0s 202us/step - loss: 0.0070 - acc: 1.0000 - val_loss: 0.0154 - val_acc: 1.0000\n",
      "Epoch 36/100\n",
      "792/792 [==============================] - 0s 183us/step - loss: 0.0064 - acc: 1.0000 - val_loss: 0.0136 - val_acc: 1.0000\n",
      "Epoch 37/100\n",
      "792/792 [==============================] - 0s 192us/step - loss: 0.0060 - acc: 1.0000 - val_loss: 0.0151 - val_acc: 1.0000\n",
      "Epoch 38/100\n",
      "792/792 [==============================] - 0s 172us/step - loss: 0.0054 - acc: 1.0000 - val_loss: 0.0133 - val_acc: 1.0000\n",
      "Epoch 39/100\n",
      "792/792 [==============================] - 0s 183us/step - loss: 0.0054 - acc: 1.0000 - val_loss: 0.0122 - val_acc: 1.0000\n",
      "Epoch 40/100\n",
      "792/792 [==============================] - 0s 199us/step - loss: 0.0065 - acc: 1.0000 - val_loss: 0.0132 - val_acc: 1.0000\n",
      "Epoch 41/100\n",
      "792/792 [==============================] - 0s 191us/step - loss: 0.0053 - acc: 1.0000 - val_loss: 0.0116 - val_acc: 1.0000\n",
      "Epoch 42/100\n",
      "792/792 [==============================] - 0s 182us/step - loss: 0.0045 - acc: 1.0000 - val_loss: 0.0118 - val_acc: 1.0000\n",
      "Epoch 43/100\n",
      "792/792 [==============================] - 0s 198us/step - loss: 0.0047 - acc: 1.0000 - val_loss: 0.0100 - val_acc: 1.0000\n",
      "Epoch 44/100\n",
      "792/792 [==============================] - 0s 208us/step - loss: 0.0046 - acc: 1.0000 - val_loss: 0.0117 - val_acc: 1.0000\n",
      "Epoch 45/100\n",
      "792/792 [==============================] - 0s 173us/step - loss: 0.0040 - acc: 1.0000 - val_loss: 0.0112 - val_acc: 1.0000\n",
      "Epoch 46/100\n",
      "792/792 [==============================] - 0s 183us/step - loss: 0.0040 - acc: 1.0000 - val_loss: 0.0119 - val_acc: 1.0000\n",
      "Epoch 47/100\n",
      "792/792 [==============================] - 0s 194us/step - loss: 0.0038 - acc: 1.0000 - val_loss: 0.0108 - val_acc: 1.0000\n",
      "Epoch 48/100\n",
      "792/792 [==============================] - 0s 211us/step - loss: 0.0087 - acc: 0.9975 - val_loss: 0.0109 - val_acc: 1.0000\n",
      "Epoch 49/100\n",
      "792/792 [==============================] - 0s 194us/step - loss: 0.0045 - acc: 1.0000 - val_loss: 0.0118 - val_acc: 1.0000\n",
      "Epoch 50/100\n",
      "792/792 [==============================] - 0s 184us/step - loss: 0.0035 - acc: 1.0000 - val_loss: 0.0088 - val_acc: 1.0000\n",
      "Epoch 51/100\n",
      "792/792 [==============================] - 0s 174us/step - loss: 0.0031 - acc: 1.0000 - val_loss: 0.0102 - val_acc: 1.0000\n",
      "Epoch 52/100\n",
      "792/792 [==============================] - 0s 181us/step - loss: 0.0030 - acc: 1.0000 - val_loss: 0.0097 - val_acc: 1.0000\n",
      "Epoch 53/100\n",
      "792/792 [==============================] - 0s 182us/step - loss: 0.0031 - acc: 1.0000 - val_loss: 0.0086 - val_acc: 1.0000\n",
      "Epoch 54/100\n",
      "792/792 [==============================] - 0s 188us/step - loss: 0.0028 - acc: 1.0000 - val_loss: 0.0091 - val_acc: 1.0000\n",
      "Epoch 55/100\n",
      "792/792 [==============================] - 0s 182us/step - loss: 0.0027 - acc: 1.0000 - val_loss: 0.0080 - val_acc: 1.0000\n",
      "Epoch 56/100\n",
      "792/792 [==============================] - 0s 177us/step - loss: 0.0026 - acc: 1.0000 - val_loss: 0.0086 - val_acc: 1.0000\n",
      "Epoch 57/100\n",
      "792/792 [==============================] - 0s 193us/step - loss: 0.0025 - acc: 1.0000 - val_loss: 0.0080 - val_acc: 1.0000\n",
      "Epoch 58/100\n",
      "792/792 [==============================] - 0s 202us/step - loss: 0.0024 - acc: 1.0000 - val_loss: 0.0082 - val_acc: 1.0000\n",
      "Epoch 59/100\n",
      "792/792 [==============================] - 0s 212us/step - loss: 0.0024 - acc: 1.0000 - val_loss: 0.0083 - val_acc: 1.0000\n",
      "Epoch 60/100\n",
      "792/792 [==============================] - 0s 186us/step - loss: 0.0022 - acc: 1.0000 - val_loss: 0.0074 - val_acc: 1.0000\n"
     ]
    },
    {
     "name": "stdout",
     "output_type": "stream",
     "text": [
      "Epoch 61/100\n",
      "792/792 [==============================] - 0s 187us/step - loss: 0.0022 - acc: 1.0000 - val_loss: 0.0078 - val_acc: 1.0000\n",
      "Epoch 62/100\n",
      "792/792 [==============================] - 0s 208us/step - loss: 0.0020 - acc: 1.0000 - val_loss: 0.0078 - val_acc: 1.0000\n",
      "Epoch 63/100\n",
      "792/792 [==============================] - 0s 177us/step - loss: 0.0020 - acc: 1.0000 - val_loss: 0.0075 - val_acc: 1.0000\n",
      "Epoch 64/100\n",
      "792/792 [==============================] - 0s 199us/step - loss: 0.0019 - acc: 1.0000 - val_loss: 0.0070 - val_acc: 1.0000\n",
      "Epoch 65/100\n",
      "792/792 [==============================] - 0s 192us/step - loss: 0.0019 - acc: 1.0000 - val_loss: 0.0071 - val_acc: 1.0000\n",
      "Epoch 66/100\n",
      "792/792 [==============================] - 0s 170us/step - loss: 0.0018 - acc: 1.0000 - val_loss: 0.0070 - val_acc: 1.0000\n",
      "Epoch 67/100\n",
      "792/792 [==============================] - 0s 183us/step - loss: 0.0018 - acc: 1.0000 - val_loss: 0.0073 - val_acc: 1.0000\n",
      "Epoch 68/100\n",
      "792/792 [==============================] - 0s 212us/step - loss: 0.0017 - acc: 1.0000 - val_loss: 0.0071 - val_acc: 1.0000\n",
      "Epoch 69/100\n",
      "792/792 [==============================] - 0s 173us/step - loss: 0.0018 - acc: 1.0000 - val_loss: 0.0067 - val_acc: 1.0000\n",
      "Epoch 70/100\n",
      "792/792 [==============================] - 0s 182us/step - loss: 0.0017 - acc: 1.0000 - val_loss: 0.0068 - val_acc: 1.0000\n",
      "Epoch 71/100\n",
      "792/792 [==============================] - 0s 194us/step - loss: 0.0016 - acc: 1.0000 - val_loss: 0.0064 - val_acc: 1.0000\n",
      "Epoch 72/100\n",
      "792/792 [==============================] - 0s 193us/step - loss: 0.0016 - acc: 1.0000 - val_loss: 0.0065 - val_acc: 1.0000\n",
      "Epoch 73/100\n",
      "792/792 [==============================] - 0s 176us/step - loss: 0.0015 - acc: 1.0000 - val_loss: 0.0067 - val_acc: 1.0000\n",
      "Epoch 74/100\n",
      "792/792 [==============================] - 0s 216us/step - loss: 0.0014 - acc: 1.0000 - val_loss: 0.0063 - val_acc: 1.0000\n",
      "Epoch 75/100\n",
      "792/792 [==============================] - 0s 206us/step - loss: 0.0014 - acc: 1.0000 - val_loss: 0.0064 - val_acc: 1.0000\n",
      "Epoch 76/100\n",
      "792/792 [==============================] - 0s 167us/step - loss: 0.0013 - acc: 1.0000 - val_loss: 0.0061 - val_acc: 1.0000\n",
      "Epoch 77/100\n",
      "792/792 [==============================] - 0s 189us/step - loss: 0.0013 - acc: 1.0000 - val_loss: 0.0063 - val_acc: 1.0000\n",
      "Epoch 78/100\n",
      "792/792 [==============================] - 0s 174us/step - loss: 0.0013 - acc: 1.0000 - val_loss: 0.0062 - val_acc: 1.0000\n",
      "Epoch 79/100\n",
      "792/792 [==============================] - 0s 202us/step - loss: 0.0013 - acc: 1.0000 - val_loss: 0.0066 - val_acc: 1.0000\n",
      "Epoch 80/100\n",
      "792/792 [==============================] - 0s 177us/step - loss: 0.0013 - acc: 1.0000 - val_loss: 0.0056 - val_acc: 1.0000\n",
      "Epoch 81/100\n",
      "792/792 [==============================] - 0s 188us/step - loss: 0.0012 - acc: 1.0000 - val_loss: 0.0060 - val_acc: 1.0000\n",
      "Epoch 82/100\n",
      "792/792 [==============================] - 0s 217us/step - loss: 0.0011 - acc: 1.0000 - val_loss: 0.0056 - val_acc: 1.0000\n",
      "Epoch 83/100\n",
      "792/792 [==============================] - 0s 177us/step - loss: 0.0011 - acc: 1.0000 - val_loss: 0.0056 - val_acc: 1.0000\n",
      "Epoch 84/100\n",
      "792/792 [==============================] - 0s 174us/step - loss: 0.0011 - acc: 1.0000 - val_loss: 0.0063 - val_acc: 1.0000\n",
      "Epoch 85/100\n",
      "792/792 [==============================] - 0s 173us/step - loss: 0.0011 - acc: 1.0000 - val_loss: 0.0059 - val_acc: 1.0000\n",
      "Epoch 86/100\n",
      "792/792 [==============================] - 0s 186us/step - loss: 0.0010 - acc: 1.0000 - val_loss: 0.0061 - val_acc: 1.0000\n",
      "Epoch 87/100\n",
      "792/792 [==============================] - 0s 181us/step - loss: 9.8747e-04 - acc: 1.0000 - val_loss: 0.0053 - val_acc: 1.0000\n",
      "Epoch 88/100\n",
      "792/792 [==============================] - 0s 210us/step - loss: 0.0010 - acc: 1.0000 - val_loss: 0.0054 - val_acc: 1.0000\n",
      "Epoch 89/100\n",
      "792/792 [==============================] - 0s 192us/step - loss: 0.0010 - acc: 1.0000 - val_loss: 0.0059 - val_acc: 1.0000\n",
      "Epoch 90/100\n",
      "792/792 [==============================] - 0s 169us/step - loss: 0.0011 - acc: 1.0000 - val_loss: 0.0057 - val_acc: 1.0000\n",
      "Epoch 91/100\n",
      "792/792 [==============================] - 0s 174us/step - loss: 0.0013 - acc: 1.0000 - val_loss: 0.0070 - val_acc: 1.0000\n",
      "Epoch 92/100\n",
      "792/792 [==============================] - 0s 194us/step - loss: 0.0593 - acc: 0.9785 - val_loss: 0.1435 - val_acc: 0.9524\n",
      "Epoch 93/100\n",
      "792/792 [==============================] - 0s 192us/step - loss: 0.1296 - acc: 0.9684 - val_loss: 0.1597 - val_acc: 0.9418\n",
      "Epoch 94/100\n",
      "792/792 [==============================] - 0s 197us/step - loss: 0.1638 - acc: 0.9533 - val_loss: 0.0716 - val_acc: 0.9683\n",
      "Epoch 95/100\n",
      "792/792 [==============================] - 0s 182us/step - loss: 0.0867 - acc: 0.9672 - val_loss: 0.0470 - val_acc: 0.9841\n",
      "Epoch 96/100\n",
      "792/792 [==============================] - 0s 208us/step - loss: 0.0292 - acc: 0.9924 - val_loss: 0.0420 - val_acc: 0.9841\n",
      "Epoch 97/100\n",
      "792/792 [==============================] - 0s 203us/step - loss: 0.0383 - acc: 0.9886 - val_loss: 0.0334 - val_acc: 0.9841\n",
      "Epoch 98/100\n",
      "792/792 [==============================] - 0s 181us/step - loss: 0.0054 - acc: 0.9987 - val_loss: 0.0071 - val_acc: 1.0000\n",
      "Epoch 99/100\n",
      "792/792 [==============================] - 0s 181us/step - loss: 0.0017 - acc: 1.0000 - val_loss: 0.0052 - val_acc: 1.0000\n",
      "Epoch 100/100\n",
      "792/792 [==============================] - 0s 178us/step - loss: 0.0011 - acc: 1.0000 - val_loss: 0.0045 - val_acc: 1.0000\n"
     ]
    },
    {
     "data": {
      "text/plain": [
       "<keras.callbacks.History at 0x28d236b3b00>"
      ]
     },
     "execution_count": 58,
     "metadata": {},
     "output_type": "execute_result"
    }
   ],
   "source": [
    "model.fit(\n",
    "  train_images,\n",
    "  to_categorical(train_labels),\n",
    "  epochs=100,\n",
    "  validation_data=(test_images, to_categorical(test_labels)),\n",
    ")"
   ]
  },
  {
   "cell_type": "code",
   "execution_count": null,
   "metadata": {
    "collapsed": true
   },
   "outputs": [],
   "source": []
  }
 ],
 "metadata": {
  "kernelspec": {
   "display_name": "Python 3",
   "language": "python",
   "name": "python3"
  },
  "language_info": {
   "codemirror_mode": {
    "name": "ipython",
    "version": 3
   },
   "file_extension": ".py",
   "mimetype": "text/x-python",
   "name": "python",
   "nbconvert_exporter": "python",
   "pygments_lexer": "ipython3",
   "version": "3.6.2"
  }
 },
 "nbformat": 4,
 "nbformat_minor": 2
}
